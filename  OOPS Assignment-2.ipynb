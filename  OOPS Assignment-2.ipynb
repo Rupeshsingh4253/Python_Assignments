{
 "cells": [
  {
   "cell_type": "code",
   "execution_count": 1,
   "id": "127cd7b4",
   "metadata": {},
   "outputs": [],
   "source": [
    "\"\"\"Abstraction is one of the four pillars of object-oriented programming and is the concept of simplifying complex \n",
    "reality by modeling classes based on their essential properties and behaviors while ignoring or hiding the \n",
    "unessential details. It involves creating abstract classes or interfaces that define a common set of methods \n",
    "and properties for related classes. Abstraction helps in reducing complexity, making code more understandable, \n",
    "and allowing developers to focus on what an object does rather than how it does it.\"\"\"\n",
    "\n",
    "from abc import ABC, abstractmethod\n",
    "\n",
    "class Shape(ABC):\n",
    "    @abstractmethod\n",
    "    def calculate_area(self):\n",
    "        pass\n",
    "\n",
    "class Circle(Shape):\n",
    "    def __init__(self, radius):\n",
    "        self.radius = radius\n",
    "\n",
    "    def calculate_area(self):\n",
    "        return 3.14 * self.radius * self.radius\n",
    "\n",
    "class Rectangle(Shape):\n",
    "    def __init__(self, length, width):\n",
    "        self.length = length\n",
    "        self.width = width\n",
    "\n",
    "    def calculate_area(self):\n",
    "        return self.length * self.width\n"
   ]
  },
  {
   "cell_type": "code",
   "execution_count": 2,
   "id": "baacc0f2",
   "metadata": {},
   "outputs": [],
   "source": [
    "\"\"\"Abstraction focuses on simplifying complex reality by modeling classes based on their essential properties and\n",
    "behaviors while ignoring the unessential details. It provides a high-level view of an object and its functionalities.\n",
    "\n",
    "Encapsulation is the concept of bundling data (attributes) and methods (functions) that operate on that data into a \n",
    "single unit (a class) while hiding the internal details from the outside. It protects the integrity of the data and \n",
    "promotes data hiding.\"\"\"\n",
    "\n",
    "class Student:\n",
    "    def __init__(self, name, age):\n",
    "        self.__name = name  # Private attribute\n",
    "        self.__age = age    # Private attribute\n",
    "\n",
    "    def get_name(self):\n",
    "        return self.__name\n",
    "\n",
    "    def set_name(self, name):\n",
    "        if len(name) >= 3:\n",
    "            self.__name = name\n",
    "\n",
    "student = Student(\"Alice\", 20)\n",
    "student.set_name(\"Bob\")  # Setter method encapsulating attribute access\n"
   ]
  },
  {
   "cell_type": "code",
   "execution_count": 3,
   "id": "1e2e5178",
   "metadata": {},
   "outputs": [
    {
     "data": {
      "text/plain": [
       "'In Python, the abc module stands for \"Abstract Base Classes.\" It is a module in the Python Standard Library that\\nprovides a mechanism for defining and working with abstract base classes. Abstract base classes are used to create \\nabstract classes or interfaces that define a common set of methods and properties that derived classes are expected\\nto implement. These abstract base classes help promote code consistency and enforce certain requirements on subclasses.'"
      ]
     },
     "execution_count": 3,
     "metadata": {},
     "output_type": "execute_result"
    }
   ],
   "source": [
    "\"\"\"In Python, the abc module stands for \"Abstract Base Classes.\" It is a module in the Python Standard Library that\n",
    "provides a mechanism for defining and working with abstract base classes. Abstract base classes are used to create \n",
    "abstract classes or interfaces that define a common set of methods and properties that derived classes are expected\n",
    "to implement. These abstract base classes help promote code consistency and enforce certain requirements on subclasses.\"\"\"\n",
    "\n"
   ]
  },
  {
   "cell_type": "code",
   "execution_count": 4,
   "id": "1c45d9de",
   "metadata": {},
   "outputs": [
    {
     "data": {
      "text/plain": [
       "\"Data abstraction is achieved in object-oriented programming by using classes and objects to encapsulate data and\\nprovide a clear separation between an object's external interface (the methods used to interact with the object) and \\nits internal representation (the data stored within the object). \""
      ]
     },
     "execution_count": 4,
     "metadata": {},
     "output_type": "execute_result"
    }
   ],
   "source": [
    "\"\"\"Data abstraction is achieved in object-oriented programming by using classes and objects to encapsulate data and\n",
    "provide a clear separation between an object's external interface (the methods used to interact with the object) and \n",
    "its internal representation (the data stored within the object). \"\"\""
   ]
  },
  {
   "cell_type": "code",
   "execution_count": 5,
   "id": "91b59c75",
   "metadata": {},
   "outputs": [
    {
     "data": {
      "text/plain": [
       "'n Python, you cannot create an instance of an abstract class directly. An abstract class is meant to be a blueprint\\nfor other classes, and it defines abstract methods (methods without implementations) that must be implemented by its \\nconcrete (non-abstract) subclasses. Attempting to create an instance of an abstract class will result in a TypeError.'"
      ]
     },
     "execution_count": 5,
     "metadata": {},
     "output_type": "execute_result"
    }
   ],
   "source": [
    "\"\"\"n Python, you cannot create an instance of an abstract class directly. An abstract class is meant to be a blueprint\n",
    "for other classes, and it defines abstract methods (methods without implementations) that must be implemented by its \n",
    "concrete (non-abstract) subclasses. Attempting to create an instance of an abstract class will result in a TypeError.\"\"\""
   ]
  },
  {
   "cell_type": "code",
   "execution_count": null,
   "id": "2639d776",
   "metadata": {},
   "outputs": [],
   "source": []
  }
 ],
 "metadata": {
  "kernelspec": {
   "display_name": "Python 3 (ipykernel)",
   "language": "python",
   "name": "python3"
  },
  "language_info": {
   "codemirror_mode": {
    "name": "ipython",
    "version": 3
   },
   "file_extension": ".py",
   "mimetype": "text/x-python",
   "name": "python",
   "nbconvert_exporter": "python",
   "pygments_lexer": "ipython3",
   "version": "3.9.13"
  }
 },
 "nbformat": 4,
 "nbformat_minor": 5
}
