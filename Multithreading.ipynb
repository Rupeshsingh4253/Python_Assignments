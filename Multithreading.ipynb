{
 "cells": [
  {
   "cell_type": "code",
   "execution_count": 1,
   "id": "2b40e404",
   "metadata": {},
   "outputs": [
    {
     "data": {
      "text/plain": [
       "'Multithreading in Python refers to the concurrent execution of multiple threads within a single Python process. Threads are\\nsmaller units of a process that can run independently, sharing the same memory space. Multithreading is used to achieve \\nparallelism, allowing a program to perform multiple tasks simultaneously. It is commonly used for tasks like I/O-bound \\noperations, concurrent network requests, and improving responsiveness in graphical applications.\\n\\nThe primary module used for handling threads in Python is the threading module. The threading module provides a high-level API\\nfor creating and managing threads.'"
      ]
     },
     "execution_count": 1,
     "metadata": {},
     "output_type": "execute_result"
    }
   ],
   "source": [
    "#que 1\n",
    "\"\"\"Multithreading in Python refers to the concurrent execution of multiple threads within a single Python process. Threads are\n",
    "smaller units of a process that can run independently, sharing the same memory space. Multithreading is used to achieve \n",
    "parallelism, allowing a program to perform multiple tasks simultaneously. It is commonly used for tasks like I/O-bound \n",
    "operations, concurrent network requests, and improving responsiveness in graphical applications.\n",
    "\n",
    "The primary module used for handling threads in Python is the threading module. The threading module provides a high-level API\n",
    "for creating and managing threads.\"\"\""
   ]
  },
  {
   "cell_type": "code",
   "execution_count": 2,
   "id": "9c649f91",
   "metadata": {},
   "outputs": [
    {
     "data": {
      "text/plain": [
       "\"The threading module is used to handle threads in Python. It provides a high-level, object-oriented interface for creating\\nand managing threads. Here's the use of the mentioned functions:\\n\\nactiveCount(): This function returns the number of Thread objects currently alive. It can be used to keep track of the active\\nthreads in the program.\\n\\ncurrentThread(): This function returns the current Thread object corresponding to the calling thread. It's useful to identify\\nthe thread in which a particular piece of code is running.\\n\\nenumerate(): This function returns a list of all Thread objects currently alive. It is helpful for inspecting and managing all\\nactive threads.\""
      ]
     },
     "execution_count": 2,
     "metadata": {},
     "output_type": "execute_result"
    }
   ],
   "source": [
    "#que2\n",
    "\"\"\"The threading module is used to handle threads in Python. It provides a high-level, object-oriented interface for creating\n",
    "and managing threads. Here's the use of the mentioned functions:\n",
    "\n",
    "activeCount(): This function returns the number of Thread objects currently alive. It can be used to keep track of the active\n",
    "threads in the program.\n",
    "\n",
    "currentThread(): This function returns the current Thread object corresponding to the calling thread. It's useful to identify\n",
    "the thread in which a particular piece of code is running.\n",
    "\n",
    "enumerate(): This function returns a list of all Thread objects currently alive. It is helpful for inspecting and managing all\n",
    "active threads.\"\"\""
   ]
  },
  {
   "cell_type": "code",
   "execution_count": 5,
   "id": "099f71c5",
   "metadata": {},
   "outputs": [
    {
     "data": {
      "text/plain": [
       "\"run(): The run method is the entry point for the thread's activity. You can override this method in a custom thread class\\nto define the thread's behavior. When you call the start() method on a Thread object, it internally invokes the run method.\\n\\nstart(): The start method begins the execution of a thread by calling the run method. It initiates a new thread of execution.\\nIt should be called on a Thread object to start the thread.\\n\\njoin(): The join method is used to wait for a thread to complete its execution. When you call join on a Thread object, the\\nprogram will wait until that thread finishes. It's commonly used to ensure that the main thread waits for all other threads\\nto finish before exiting.\\n\\nisAlive(): The isAlive method is used to check if a thread is currently active and running. It returns True if the thread is\\nalive (i.e., running) and False otherwise.\""
      ]
     },
     "execution_count": 5,
     "metadata": {},
     "output_type": "execute_result"
    }
   ],
   "source": [
    "#que 3\n",
    "\"\"\"run(): The run method is the entry point for the thread's activity. You can override this method in a custom thread class\n",
    "to define the thread's behavior. When you call the start() method on a Thread object, it internally invokes the run method.\n",
    "\n",
    "start(): The start method begins the execution of a thread by calling the run method. It initiates a new thread of execution.\n",
    "It should be called on a Thread object to start the thread.\n",
    "\n",
    "join(): The join method is used to wait for a thread to complete its execution. When you call join on a Thread object, the\n",
    "program will wait until that thread finishes. It's commonly used to ensure that the main thread waits for all other threads\n",
    "to finish before exiting.\n",
    "\n",
    "isAlive(): The isAlive method is used to check if a thread is currently active and running. It returns True if the thread is\n",
    "alive (i.e., running) and False otherwise.\"\"\""
   ]
  },
  {
   "cell_type": "code",
   "execution_count": 4,
   "id": "a3bd6a0e",
   "metadata": {},
   "outputs": [
    {
     "data": {
      "text/plain": [
       "'Advantages of Multithreading:\\n\\nImproved Performance: Multithreading can lead to better CPU utilization and improved performance for tasks that can be\\nparallelized.\\n\\nConcurrency: Threads allow different parts of a program to execute independently, making it easier to manage concurrent tasks.\\n\\nResponsiveness: Multithreading can make an application more responsive, especially in user interfaces, as it prevents\\nlong-running tasks from blocking the entire application.\\n\\nSimplified Code: In some cases, multithreading can lead to cleaner and more maintainable code by breaking down complex tasks \\ninto smaller, more manageable threads.\\n\\nDisadvantages of Multithreading:\\n\\nComplexity: Multithreading introduces complexity due to issues like race conditions and deadlocks, which can be challenging to\\ndebug and resolve.\\n\\nResource Consumption: Threads consume memory and system resources. An excessive number of threads can lead to resource \\ncontention and slow down a system.\\n\\nSynchronization Overhead: To avoid race conditions, developers must use synchronization mechanisms like locks and semaphores, \\nwhich can introduce overhead and complexity.\\n\\nLimited Scaling: Multithreading may not always lead to linear performance improvements, and there can be diminishing returns \\nas the number of threads increases.'"
      ]
     },
     "execution_count": 4,
     "metadata": {},
     "output_type": "execute_result"
    }
   ],
   "source": [
    "#que 5\n",
    "\"\"\"Advantages of Multithreading:\n",
    "\n",
    "Improved Performance: Multithreading can lead to better CPU utilization and improved performance for tasks that can be\n",
    "parallelized.\n",
    "\n",
    "Concurrency: Threads allow different parts of a program to execute independently, making it easier to manage concurrent tasks.\n",
    "\n",
    "Responsiveness: Multithreading can make an application more responsive, especially in user interfaces, as it prevents\n",
    "long-running tasks from blocking the entire application.\n",
    "\n",
    "Simplified Code: In some cases, multithreading can lead to cleaner and more maintainable code by breaking down complex tasks \n",
    "into smaller, more manageable threads.\n",
    "\n",
    "Disadvantages of Multithreading:\n",
    "\n",
    "Complexity: Multithreading introduces complexity due to issues like race conditions and deadlocks, which can be challenging to\n",
    "debug and resolve.\n",
    "\n",
    "Resource Consumption: Threads consume memory and system resources. An excessive number of threads can lead to resource \n",
    "contention and slow down a system.\n",
    "\n",
    "Synchronization Overhead: To avoid race conditions, developers must use synchronization mechanisms like locks and semaphores, \n",
    "which can introduce overhead and complexity.\n",
    "\n",
    "Limited Scaling: Multithreading may not always lead to linear performance improvements, and there can be diminishing returns \n",
    "as the number of threads increases.\"\"\""
   ]
  },
  {
   "cell_type": "code",
   "execution_count": 6,
   "id": "065c1b82",
   "metadata": {},
   "outputs": [
    {
     "name": "stdout",
     "output_type": "stream",
     "text": [
      "Square of 1 is 1\n",
      "Square of 2 is 4\n",
      "Square of 3 is 9\n",
      "Square of 4 is 16\n",
      "Square of 5 is 25\n",
      "Cube of 1 is 1\n",
      "Cube of 2 is 8\n",
      "Cube of 3 is 27\n",
      "Cube of 4 is 64\n",
      "Cube of 5 is 125\n",
      "Both threads have finished.\n"
     ]
    }
   ],
   "source": [
    "#que 4\n",
    "import threading\n",
    "\n",
    "def print_squares():\n",
    "    for i in range(1, 6):\n",
    "        print(f\"Square of {i} is {i*i}\")\n",
    "\n",
    "def print_cubes():\n",
    "    for i in range(1, 6):\n",
    "        print(f\"Cube of {i} is {i*i*i}\")\n",
    "\n",
    "# Create two thread objects\n",
    "t1 = threading.Thread(target=print_squares)\n",
    "t2 = threading.Thread(target=print_cubes)\n",
    "\n",
    "# Start the threads\n",
    "t1.start()\n",
    "t2.start()\n",
    "\n",
    "# Wait for both threads to finish\n",
    "t1.join()\n",
    "t2.join()\n",
    "\n",
    "print(\"Both threads have finished.\")\n"
   ]
  },
  {
   "cell_type": "code",
   "execution_count": null,
   "id": "5137e264",
   "metadata": {},
   "outputs": [],
   "source": [
    "#que 6\n",
    "Deadlocks: Deadlocks occur in multithreaded or multi-process systems when two or more threads or processes are unable to \n",
    "    proceed because each is waiting for the other to release a resource. In other words, it's a situation where multiple \n",
    "    entities are stuck, and none can make progress. Deadlocks typically involve acquiring multiple locks and can result in\n",
    "    a system that's unresponsive and requires intervention to resolve.\n",
    "\n",
    "Race Conditions: Race conditions occur when multiple threads or processes access shared data concurrently, and the final\n",
    "    outcome depends on the timing or order of execution. When threads access and modify shared data without proper \n",
    "    synchronization, unpredictable and undesirable behavior can occur. Race conditions can lead to data corruption, crashes,\n",
    "    and other unexpected issues. To mitigate race conditions, synchronization mechanisms like locks and semaphores are used\n",
    "    to control access to shared resources and ensure data consistency."
   ]
  }
 ],
 "metadata": {
  "kernelspec": {
   "display_name": "Python 3 (ipykernel)",
   "language": "python",
   "name": "python3"
  },
  "language_info": {
   "codemirror_mode": {
    "name": "ipython",
    "version": 3
   },
   "file_extension": ".py",
   "mimetype": "text/x-python",
   "name": "python",
   "nbconvert_exporter": "python",
   "pygments_lexer": "ipython3",
   "version": "3.9.13"
  }
 },
 "nbformat": 4,
 "nbformat_minor": 5
}
