{
 "cells": [
  {
   "cell_type": "code",
   "execution_count": 27,
   "id": "be69f887",
   "metadata": {},
   "outputs": [
    {
     "name": "stdout",
     "output_type": "stream",
     "text": [
      "BMW 30 80\n"
     ]
    }
   ],
   "source": [
    "class vehicle:\n",
    "    def __init__(self, name_of_vehicle, max_speed, average_of_vehicle):\n",
    "        self.__name_of_vehicle = name_of_vehicle\n",
    "        self.__max_speed = max_speed\n",
    "        self.__average_of_vehicle = average_of_vehicle\n",
    "\n",
    "c = vehicle(\"BMW\", 80, 30)\n",
    "print(c._vehicle__name_of_vehicle, c._vehicle__average_of_vehicle, c._vehicle__max_speed)\n",
    "\n"
   ]
  },
  {
   "cell_type": "code",
   "execution_count": 28,
   "id": "2fa222b7",
   "metadata": {},
   "outputs": [],
   "source": [
    "class car(vehicle):\n",
    "    def seating_capacity(self,capacity):\n",
    "        return capacity"
   ]
  },
  {
   "cell_type": "code",
   "execution_count": 30,
   "id": "08605f08",
   "metadata": {},
   "outputs": [
    {
     "ename": "TypeError",
     "evalue": "__init__() missing 3 required positional arguments: 'name_of_vehicle', 'max_speed', and 'average_of_vehicle'",
     "output_type": "error",
     "traceback": [
      "\u001b[1;31m---------------------------------------------------------------------------\u001b[0m",
      "\u001b[1;31mTypeError\u001b[0m                                 Traceback (most recent call last)",
      "\u001b[1;32m~\\AppData\\Local\\Temp\\ipykernel_9144\\604923573.py\u001b[0m in \u001b[0;36m<module>\u001b[1;34m\u001b[0m\n\u001b[0;32m      1\u001b[0m \u001b[0mc\u001b[0m \u001b[1;33m=\u001b[0m \u001b[0mcar\u001b[0m\u001b[1;33m(\u001b[0m\u001b[1;34m\"BMW\"\u001b[0m\u001b[1;33m,\u001b[0m \u001b[1;36m80\u001b[0m\u001b[1;33m,\u001b[0m \u001b[1;36m30\u001b[0m\u001b[1;33m)\u001b[0m\u001b[1;33m\u001b[0m\u001b[1;33m\u001b[0m\u001b[0m\n\u001b[1;32m----> 2\u001b[1;33m \u001b[0mcc\u001b[0m \u001b[1;33m=\u001b[0m \u001b[0mcar\u001b[0m\u001b[1;33m(\u001b[0m\u001b[1;33m)\u001b[0m\u001b[1;33m\u001b[0m\u001b[1;33m\u001b[0m\u001b[0m\n\u001b[0m\u001b[0;32m      3\u001b[0m \u001b[0mprint\u001b[0m\u001b[1;33m(\u001b[0m\u001b[0mcc\u001b[0m\u001b[1;33m.\u001b[0m\u001b[0m_vehicle__name_of_vehicle\u001b[0m\u001b[1;33m,\u001b[0m \u001b[0mcc\u001b[0m\u001b[1;33m.\u001b[0m\u001b[0mseating_capacity\u001b[0m\u001b[1;33m(\u001b[0m\u001b[1;36m50\u001b[0m\u001b[1;33m)\u001b[0m\u001b[1;33m)\u001b[0m\u001b[1;33m\u001b[0m\u001b[1;33m\u001b[0m\u001b[0m\n",
      "\u001b[1;31mTypeError\u001b[0m: __init__() missing 3 required positional arguments: 'name_of_vehicle', 'max_speed', and 'average_of_vehicle'"
     ]
    }
   ],
   "source": [
    "c = car(\"BMW\", 80, 30)\n",
    "cc = car()\n",
    "print(cc._vehicle__name_of_vehicle, cc.seating_capacity(50))"
   ]
  },
  {
   "cell_type": "code",
   "execution_count": 33,
   "id": "7d0337a7",
   "metadata": {},
   "outputs": [],
   "source": [
    "#Multiple inheritance is a concept in object-oriented programming where a class can inherit attributes\n",
    "#and methods from more than one base class. In Python, you can create a class that inherits from multiple\n",
    "#base classes, and it can access the attributes and methods from all of them. This allows for greater \n",
    "#flexibility in designing class hierarchies, but it can also lead to complexities and ambiguities \n",
    "#if not used carefully."
   ]
  },
  {
   "cell_type": "code",
   "execution_count": 34,
   "id": "fcb5ca2e",
   "metadata": {},
   "outputs": [
    {
     "name": "stdout",
     "output_type": "stream",
     "text": [
      "Buddy barks\n",
      "Whiskers meows\n",
      "Donald quacks\n"
     ]
    }
   ],
   "source": [
    "class Animal:\n",
    "    def __init__(self, name):\n",
    "        self.name = name\n",
    "\n",
    "    def speak(self):\n",
    "        pass\n",
    "\n",
    "class Mammal:\n",
    "    def give_birth(self):\n",
    "        pass\n",
    "\n",
    "class Bird:\n",
    "    def lay_eggs(self):\n",
    "        pass\n",
    "\n",
    "class Dog(Animal, Mammal):\n",
    "    def speak(self):\n",
    "        return f\"{self.name} barks\"\n",
    "\n",
    "class Cat(Animal, Mammal):\n",
    "    def speak(self):\n",
    "        return f\"{self.name} meows\"\n",
    "\n",
    "class Duck(Animal, Bird):\n",
    "    def speak(self):\n",
    "        return f\"{self.name} quacks\"\n",
    "\n",
    "# Creating instances\n",
    "dog = Dog(\"Buddy\")\n",
    "cat = Cat(\"Whiskers\")\n",
    "duck = Duck(\"Donald\")\n",
    "\n",
    "# Demonstrate multiple inheritance\n",
    "print(dog.speak())  # Output: \"Buddy barks\"\n",
    "print(cat.speak())  # Output: \"Whiskers meows\"\n",
    "print(duck.speak())  # Output: \"Donald quacks\"\n",
    "\n",
    "# Accessing methods from different base classes\n",
    "dog.give_birth() \n",
    "duck.lay_eggs()  \n"
   ]
  },
  {
   "cell_type": "code",
   "execution_count": 35,
   "id": "1adb7420",
   "metadata": {},
   "outputs": [
    {
     "name": "stdout",
     "output_type": "stream",
     "text": [
      "Name: Alice\n",
      "Age: 30\n",
      "Name: Bob\n",
      "Age: 25\n"
     ]
    }
   ],
   "source": [
    "class Person:\n",
    "    def __init__(self, name, age):\n",
    "        self.__name = name \n",
    "        self.__age = age\n",
    "\n",
    "    def get_name(self):\n",
    "        return self.__name\n",
    "\n",
    "    def set_name(self, name):\n",
    "        if len(name) > 0:\n",
    "            self.__name = name\n",
    "        else:\n",
    "            print(\"Name cannot be empty.\")\n",
    "\n",
    "    def get_age(self):\n",
    "        return self.__age\n",
    "\n",
    "    def set_age(self, age):\n",
    "        if age >= 0:\n",
    "            self.__age = age\n",
    "        else:\n",
    "            print(\"Age cannot be negative.\")\n",
    "\n",
    "person = Person(\"Alice\", 30)\n",
    "\n",
    "print(\"Name:\", person.get_name())\n",
    "print(\"Age:\", person.get_age())\n",
    "\n",
    "person.set_name(\"Bob\")\n",
    "person.set_age(25)\n",
    "\n",
    "print(\"Name:\", person.get_name())\n",
    "print(\"Age:\", person.get_age())\n"
   ]
  },
  {
   "cell_type": "code",
   "execution_count": 36,
   "id": "d88e015a",
   "metadata": {},
   "outputs": [
    {
     "name": "stdout",
     "output_type": "stream",
     "text": [
      "Area of the rectangle: 20\n",
      "Area of the circle: 28.274333882308138\n"
     ]
    }
   ],
   "source": [
    "class Shape:\n",
    "    def area(self):\n",
    "        return 0\n",
    "\n",
    "class Rectangle(Shape):\n",
    "    def __init__(self, width, height):\n",
    "        self.width = width\n",
    "        self.height = height\n",
    "\n",
    "    def area(self):\n",
    "        return self.width * self.height\n",
    "\n",
    "class Circle(Shape):\n",
    "    def __init__(self, radius):\n",
    "        self.radius = radius\n",
    "\n",
    "    def area(self):\n",
    "        import math\n",
    "        return math.pi * (self.radius ** 2)\n",
    "\n",
    "rectangle = Rectangle(5, 4)\n",
    "circle = Circle(3)\n",
    "\n",
    "print(\"Area of the rectangle:\", rectangle.area())  \n",
    "print(\"Area of the circle:\", circle.area())        \n"
   ]
  },
  {
   "cell_type": "code",
   "execution_count": null,
   "id": "1112e348",
   "metadata": {},
   "outputs": [],
   "source": []
  }
 ],
 "metadata": {
  "kernelspec": {
   "display_name": "Python 3 (ipykernel)",
   "language": "python",
   "name": "python3"
  },
  "language_info": {
   "codemirror_mode": {
    "name": "ipython",
    "version": 3
   },
   "file_extension": ".py",
   "mimetype": "text/x-python",
   "name": "python",
   "nbconvert_exporter": "python",
   "pygments_lexer": "ipython3",
   "version": "3.9.13"
  }
 },
 "nbformat": 4,
 "nbformat_minor": 5
}
