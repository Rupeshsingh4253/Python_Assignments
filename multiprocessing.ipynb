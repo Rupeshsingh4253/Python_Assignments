{
 "cells": [
  {
   "cell_type": "code",
   "execution_count": 1,
   "id": "b6a3a4d1",
   "metadata": {},
   "outputs": [
    {
     "data": {
      "text/plain": [
       "\"Multiprocessing in Python refers to the capability of the Python language and its libraries to create and manage multiple\\nprocesses, allowing for parallel and concurrent execution of tasks. Each process runs independently in its own memory space,\\nwhich is separate from other processes. Multiprocessing is useful for various purposes, including:\\n\\nImproved Performance: It can take advantage of multi-core processors and utilize multiple CPU cores, leading to enhanced \\nperformance, especially for CPU-bound tasks.\\n\\nParallelism: It allows you to execute multiple tasks concurrently, making it suitable for tasks that can be parallelized, \\nsuch as data processing, simulations, and other computationally intensive operations.\\n\\nFault Isolation: Processes are separate, and issues in one process typically don't affect others. This provides better fault\\nisolation and robustness.\""
      ]
     },
     "execution_count": 1,
     "metadata": {},
     "output_type": "execute_result"
    }
   ],
   "source": [
    "#que1\n",
    "\"\"\"Multiprocessing in Python refers to the capability of the Python language and its libraries to create and manage multiple\n",
    "processes, allowing for parallel and concurrent execution of tasks. Each process runs independently in its own memory space,\n",
    "which is separate from other processes. Multiprocessing is useful for various purposes, including:\n",
    "\n",
    "Improved Performance: It can take advantage of multi-core processors and utilize multiple CPU cores, leading to enhanced \n",
    "performance, especially for CPU-bound tasks.\n",
    "\n",
    "Parallelism: It allows you to execute multiple tasks concurrently, making it suitable for tasks that can be parallelized, \n",
    "such as data processing, simulations, and other computationally intensive operations.\n",
    "\n",
    "Fault Isolation: Processes are separate, and issues in one process typically don't affect others. This provides better fault\n",
    "isolation and robustness.\"\"\""
   ]
  },
  {
   "cell_type": "code",
   "execution_count": 2,
   "id": "28dbec24",
   "metadata": {},
   "outputs": [
    {
     "data": {
      "text/plain": [
       "\"Multiprocessing uses multiple processes, each with its own memory space.\\nProcesses are heavyweight, consuming more memory and resources.\\nIt is suitable for CPU-bound tasks (e.g., computations).\\nProcesses run in parallel and can fully utilize multi-core processors.\\nProcess communication typically involves inter-process communication (IPC) mechanisms like pipes and queues.\\nMultithreading:\\n\\nMultithreading uses multiple threads within a single process, sharing the same memory space.\\nThreads are lightweight and consume less memory and resources compared to processes.\\nIt is suitable for I/O-bound tasks (e.g., I/O operations, network requests).\\nThreads run concurrently, but Python's Global Interpreter Lock (GIL) may limit the utilization of multi-core processors in\\nsome cases.\\nThread communication is easier since threads can directly share data, but it requires synchronization to avoid race\\nconditions.\""
      ]
     },
     "execution_count": 2,
     "metadata": {},
     "output_type": "execute_result"
    }
   ],
   "source": [
    "#que2\n",
    "\"\"\"Multiprocessing uses multiple processes, each with its own memory space.\n",
    "Processes are heavyweight, consuming more memory and resources.\n",
    "It is suitable for CPU-bound tasks (e.g., computations).\n",
    "Processes run in parallel and can fully utilize multi-core processors.\n",
    "Process communication typically involves inter-process communication (IPC) mechanisms like pipes and queues.\n",
    "Multithreading:\n",
    "\n",
    "Multithreading uses multiple threads within a single process, sharing the same memory space.\n",
    "Threads are lightweight and consume less memory and resources compared to processes.\n",
    "It is suitable for I/O-bound tasks (e.g., I/O operations, network requests).\n",
    "Threads run concurrently, but Python's Global Interpreter Lock (GIL) may limit the utilization of multi-core processors in\n",
    "some cases.\n",
    "Thread communication is easier since threads can directly share data, but it requires synchronization to avoid race\n",
    "conditions.\"\"\""
   ]
  },
  {
   "cell_type": "code",
   "execution_count": null,
   "id": "24952b48",
   "metadata": {},
   "outputs": [],
   "source": [
    "#que3\n"
   ]
  }
 ],
 "metadata": {
  "kernelspec": {
   "display_name": "Python 3 (ipykernel)",
   "language": "python",
   "name": "python3"
  },
  "language_info": {
   "codemirror_mode": {
    "name": "ipython",
    "version": 3
   },
   "file_extension": ".py",
   "mimetype": "text/x-python",
   "name": "python",
   "nbconvert_exporter": "python",
   "pygments_lexer": "ipython3",
   "version": "3.9.13"
  }
 },
 "nbformat": 4,
 "nbformat_minor": 5
}
