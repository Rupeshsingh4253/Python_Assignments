{
 "cells": [
  {
   "cell_type": "code",
   "execution_count": 4,
   "id": "5ed45931",
   "metadata": {},
   "outputs": [],
   "source": [
    "l1=[('Sachin Tendulkar', 34357), ('Ricky Ponting', 27483), ('Jack Kallis', 25534), ('Virat Kohli', 24936)]"
   ]
  },
  {
   "cell_type": "code",
   "execution_count": 10,
   "id": "046e0e1e",
   "metadata": {},
   "outputs": [
    {
     "name": "stdout",
     "output_type": "stream",
     "text": [
      "[('Virat Kohli', 24936), ('Jack Kallis', 25534), ('Ricky Ponting', 27483), ('Sachin Tendulkar', 34357)]\n"
     ]
    }
   ],
   "source": [
    "print(sorted(l1,key=lambda x:x[1]))"
   ]
  },
  {
   "cell_type": "code",
   "execution_count": 12,
   "id": "cee1e1a4",
   "metadata": {},
   "outputs": [
    {
     "name": "stdout",
     "output_type": "stream",
     "text": [
      "[1, 4, 9, 16, 25, 36, 49, 64, 81, 100]\n"
     ]
    }
   ],
   "source": [
    "l1=[1, 2, 3, 4, 5, 6, 7, 8, 9, 10]\n",
    "print(list(map(lambda x:x**2,l1)))"
   ]
  },
  {
   "cell_type": "code",
   "execution_count": 14,
   "id": "d35e01f1",
   "metadata": {},
   "outputs": [
    {
     "name": "stdout",
     "output_type": "stream",
     "text": [
      "(1, 2, 3, 4, 5, 6, 7, 8, 9, 10)\n"
     ]
    }
   ],
   "source": [
    "l1=[1, 2, 3, 4, 5, 6, 7, 8, 9, 10]\n",
    "print(tuple(map(lambda x:x,l1)))"
   ]
  },
  {
   "cell_type": "code",
   "execution_count": 17,
   "id": "1c6986eb",
   "metadata": {},
   "outputs": [
    {
     "name": "stdout",
     "output_type": "stream",
     "text": [
      "15511210043330985984000000\n"
     ]
    }
   ],
   "source": [
    "from functools import reduce\n",
    "l1=[1, 2, 3, 4, 5, 6, 7, 8, 9, 10,11,12,13,14,15,16,17,18,19,20,21,22,23,24,25]\n",
    "print(reduce(lambda x,y:x*y,l1))"
   ]
  },
  {
   "cell_type": "code",
   "execution_count": 31,
   "id": "02613036",
   "metadata": {},
   "outputs": [
    {
     "name": "stdout",
     "output_type": "stream",
     "text": [
      "[6, 60, 90, 120]\n"
     ]
    }
   ],
   "source": [
    "l1 = [2, 3, 6, 9, 27, 60, 90, 120, 55, 46]\n",
    "\n",
    "x = list(filter(lambda x: x % 2 == 0 and x % 3 == 0, l1))\n",
    "\n",
    "print(x)\n"
   ]
  },
  {
   "cell_type": "code",
   "execution_count": 43,
   "id": "f6cd5061",
   "metadata": {},
   "outputs": [
    {
     "name": "stdout",
     "output_type": "stream",
     "text": [
      "['php', 'aba', 'radar', 'level']\n"
     ]
    }
   ],
   "source": [
    "l1=['python', 'php', 'aba', 'radar', 'level']\n",
    "print(list(filter(lambda x: x == x[::-1], l1)))"
   ]
  },
  {
   "cell_type": "code",
   "execution_count": null,
   "id": "fa3066d4",
   "metadata": {},
   "outputs": [],
   "source": []
  }
 ],
 "metadata": {
  "kernelspec": {
   "display_name": "Python 3 (ipykernel)",
   "language": "python",
   "name": "python3"
  },
  "language_info": {
   "codemirror_mode": {
    "name": "ipython",
    "version": 3
   },
   "file_extension": ".py",
   "mimetype": "text/x-python",
   "name": "python",
   "nbconvert_exporter": "python",
   "pygments_lexer": "ipython3",
   "version": "3.9.13"
  }
 },
 "nbformat": 4,
 "nbformat_minor": 5
}
