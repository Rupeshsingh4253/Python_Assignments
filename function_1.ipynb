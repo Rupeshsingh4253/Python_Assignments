{
 "cells": [
  {
   "cell_type": "code",
   "execution_count": 8,
   "id": "dbc0a4a1",
   "metadata": {},
   "outputs": [],
   "source": [
    "def test():\n",
    "    return int(2)"
   ]
  },
  {
   "cell_type": "code",
   "execution_count": 9,
   "id": "f0e53169",
   "metadata": {},
   "outputs": [
    {
     "data": {
      "text/plain": [
       "7"
      ]
     },
     "execution_count": 9,
     "metadata": {},
     "output_type": "execute_result"
    }
   ],
   "source": [
    "test()+ int(5)"
   ]
  },
  {
   "cell_type": "code",
   "execution_count": 20,
   "id": "6d3fde2b",
   "metadata": {},
   "outputs": [],
   "source": [
    "def test1(*r):\n",
    "    return r\n"
   ]
  },
  {
   "cell_type": "code",
   "execution_count": 21,
   "id": "6f7517fd",
   "metadata": {},
   "outputs": [
    {
     "data": {
      "text/plain": [
       "(1, 5, 'mm', 't', 'rwdf')"
      ]
     },
     "execution_count": 21,
     "metadata": {},
     "output_type": "execute_result"
    }
   ],
   "source": [
    "test1(1,5,\"mm\",\"t\",\"rwdf\")"
   ]
  },
  {
   "cell_type": "code",
   "execution_count": 22,
   "id": "c1cdd7f8",
   "metadata": {},
   "outputs": [],
   "source": [
    "l=[1,3,5,\"r\",\"a\",[1,2,3,\"l\",5,\"m\"],[10,20,30,\"rr\",[11,12]]]"
   ]
  },
  {
   "cell_type": "code",
   "execution_count": 23,
   "id": "e98cd7b0",
   "metadata": {},
   "outputs": [],
   "source": [
    "def test2(l):\n",
    "    l1=[]\n",
    "    for i in l:\n",
    "        if type(i)==list:\n",
    "            for j in i:\n",
    "                if type(j)==int or type(j)==float:\n",
    "                    l1.append(j)\n",
    "        if type(i)==int or type(i)==float:\n",
    "            l1.append(i)\n",
    "    return l1"
   ]
  },
  {
   "cell_type": "code",
   "execution_count": 24,
   "id": "12dfe2b2",
   "metadata": {},
   "outputs": [
    {
     "data": {
      "text/plain": [
       "[1, 3, 5, 1, 2, 3, 5, 10, 20, 30]"
      ]
     },
     "execution_count": 24,
     "metadata": {},
     "output_type": "execute_result"
    }
   ],
   "source": [
    "test2(l)"
   ]
  },
  {
   "cell_type": "code",
   "execution_count": null,
   "id": "9d8505ba",
   "metadata": {},
   "outputs": [],
   "source": []
  },
  {
   "cell_type": "code",
   "execution_count": null,
   "id": "2b882bfe",
   "metadata": {},
   "outputs": [],
   "source": []
  }
 ],
 "metadata": {
  "kernelspec": {
   "display_name": "Python 3 (ipykernel)",
   "language": "python",
   "name": "python3"
  },
  "language_info": {
   "codemirror_mode": {
    "name": "ipython",
    "version": 3
   },
   "file_extension": ".py",
   "mimetype": "text/x-python",
   "name": "python",
   "nbconvert_exporter": "python",
   "pygments_lexer": "ipython3",
   "version": "3.9.13"
  }
 },
 "nbformat": 4,
 "nbformat_minor": 5
}
