{
 "cells": [
  {
   "cell_type": "code",
   "execution_count": 3,
   "id": "46777350",
   "metadata": {},
   "outputs": [
    {
     "name": "stdout",
     "output_type": "stream",
     "text": [
      "Toyota Camry is traveling at 10 mph.\n",
      "Ford Mustang is traveling at 10 mph.\n"
     ]
    }
   ],
   "source": [
    "#Que 1:\n",
    "       # A class is a blueprint or a template for creating objects. It defines the structure and behavior of objects that belong to it.\n",
    "        \n",
    "class Car:\n",
    "    def __init__(self, make, model, year):\n",
    "        self.make = make\n",
    "        self.model = model\n",
    "        self.year = year\n",
    "        self.speed = 0\n",
    "\n",
    "    def accelerate(self):\n",
    "        self.speed += 10\n",
    "\n",
    "    def brake(self):\n",
    "        self.speed -= 10\n",
    "\n",
    "    \n",
    "    #An object is an instance of a class. It is a concrete realization of the blueprint defined by the class.\n",
    "    \n",
    "car1 = Car(\"Toyota\", \"Camry\", 2022)\n",
    "car2 = Car(\"Ford\", \"Mustang\", 2023)\n",
    "\n",
    "car1.accelerate()  \n",
    "car2.accelerate()  \n",
    "\n",
    "print(f\"{car1.make} {car1.model} is traveling at {car1.speed} mph.\")\n",
    "print(f\"{car2.make} {car2.model} is traveling at {car2.speed} mph.\")\n",
    "\n",
    "\n",
    "\n"
   ]
  },
  {
   "cell_type": "code",
   "execution_count": 8,
   "id": "dc96fcf3",
   "metadata": {},
   "outputs": [
    {
     "name": "stdout",
     "output_type": "stream",
     "text": [
      "Hello, my name is Alice, and I am 30 years old.\n",
      "Hello, my name is Bob, and I am 25 years old.\n"
     ]
    }
   ],
   "source": [
    "\"\"\" Que 2:\n",
    "        Encapsulation\n",
    "        Inheritance\n",
    "        Polymorphism\n",
    "        Abstraction\"\"\"\n",
    "        \n",
    "#Que 3:\n",
    "  #The __init__() function, also known as the constructor method, is a special method in Python used to initialize the attributes (properties) of an object when it is created from a class. It is called automatically when an object of the class is instantiated\n",
    "        \n",
    "class Person:\n",
    "    def __init__(self, name, age):\n",
    "        self.name = name\n",
    "        self.age = age\n",
    "\n",
    "    def introduce(self):\n",
    "        print(f\"Hello, my name is {self.name}, and I am {self.age} years old.\")\n",
    "\n",
    "person1 = Person(\"Alice\", 30)\n",
    "person2 = Person(\"Bob\", 25)\n",
    "\n",
    "person1.introduce() \n",
    "person2.introduce()  \n"
   ]
  },
  {
   "cell_type": "code",
   "execution_count": 10,
   "id": "4a238986",
   "metadata": {},
   "outputs": [],
   "source": [
    "\n",
    "\"\"\"Que 4:\n",
    "        self is used within classes to refer to the instance of the class. It is the conventional name for the first parameter in methods defined within a class. The use of self serves several essential purposes:\n",
    "        Accessing Instance Attributes\n",
    "        Calling Other Instance Methods\n",
    "        Creating and Managing Instance Objects\"\"\"\n",
    "        \n",
    " #Que 5:\n",
    "        # Inheritance is a fundamental concept in object-oriented programming (OOP) that allows a new class (subclass or derived class) to inherit properties and behaviors (attributes and methods) from an existing class (superclass or base class). Inheritance promotes code reusability and the creation of a hierarchy of classes, where a subclass inherits characteristics from a superclass while also having the option to extend or override those characteristics.\n",
    "class Animal:\n",
    "    def speak(self):\n",
    "        pass\n",
    "\n",
    "class Dog(Animal):\n",
    "    def speak(self):\n",
    "        return \"Woof!\"\n",
    "\n",
    "class Cat(Animal):\n",
    "    def speak(self):\n",
    "        return \"Meow!\"\n",
    "\n",
    "\n",
    "class A:\n",
    "    def methodA(self):\n",
    "        pass\n",
    "\n",
    "class B:\n",
    "    def methodB(self):\n",
    "        pass\n",
    "\n",
    "class C(A, B):\n",
    "    def methodC(self):\n",
    "        pass\n",
    "\n",
    "\n",
    "class Grandparent:\n",
    "    def method_grandparent(self):\n",
    "        pass\n",
    "\n",
    "class Parent(Grandparent):\n",
    "    def method_parent(self):\n",
    "        pass\n",
    "\n",
    "class Child(Parent):\n",
    "    def method_child(self):\n",
    "        pass\n",
    "\n"
   ]
  },
  {
   "cell_type": "code",
   "execution_count": null,
   "id": "57c37298",
   "metadata": {},
   "outputs": [],
   "source": []
  }
 ],
 "metadata": {
  "kernelspec": {
   "display_name": "Python 3 (ipykernel)",
   "language": "python",
   "name": "python3"
  },
  "language_info": {
   "codemirror_mode": {
    "name": "ipython",
    "version": 3
   },
   "file_extension": ".py",
   "mimetype": "text/x-python",
   "name": "python",
   "nbconvert_exporter": "python",
   "pygments_lexer": "ipython3",
   "version": "3.9.13"
  }
 },
 "nbformat": 4,
 "nbformat_minor": 5
}
